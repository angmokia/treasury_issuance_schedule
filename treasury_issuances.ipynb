{
 "cells": [
  {
   "cell_type": "code",
   "execution_count": 1,
   "metadata": {},
   "outputs": [
    {
     "name": "stdout",
     "output_type": "stream",
     "text": [
      "Found services-api-fiscal-service-v1-accounting-od-auctions-query.pkl. Importing.\n",
      "recent_record_date: 2025-08-29 lookback: 2\n"
     ]
    },
    {
     "data": {
      "application/vnd.plotly.v1+json": {
       "config": {
        "plotlyServerURL": "https://plot.ly"
       },
       "data": [
        {
         "cells": {
          "align": "center",
          "fill": {
           "color": "rgb(30,30,30)"
          },
          "font": {
           "color": "white",
           "size": 12
          },
          "values": [
           [
            "2025-08-26",
            "2025-08-26",
            "2025-08-26",
            "2025-08-28",
            "2025-08-28",
            "2025-08-28",
            "2025-08-29",
            "2025-08-29",
            "2025-09-02",
            "2025-09-02",
            "2025-09-02",
            "2025-09-02"
           ],
           [
            "Bill",
            "Bill",
            "Bill",
            "Bill",
            "Bill",
            "Bill",
            "Note",
            "Bond",
            "Note",
            "Note",
            "Note",
            "Bond"
           ],
           [
            "17-Week",
            "4-Week",
            "8-Week",
            "13-Week",
            "26-Week",
            "6-Week",
            "1-Year",
            "29-Year",
            "7-Year",
            "5-Year",
            "2-Year",
            "20-Year"
           ],
           [
            "912797RY5",
            "912797QV2",
            "912797RD1",
            "912797NL7",
            "912797RU3",
            "912797QE0",
            "91282CNQ0",
            "912810UH9",
            "91282CNW7",
            "91282CNX5",
            "91282CNV9",
            "912810UN6"
           ],
           [
            65,
            100,
            85,
            82,
            73,
            85,
            28,
            8,
            44,
            70,
            69,
            16
           ]
          ]
         },
         "domain": {
          "x": [
           0,
           1
          ],
          "y": [
           0.575,
           1
          ]
         },
         "header": {
          "align": "center",
          "fill": {
           "color": "black"
          },
          "font": {
           "color": "white",
           "size": 14
          },
          "values": [
           "Issue Date",
           "Security Type",
           "Term",
           "CUSIP",
           "Offering (Billion $)"
          ]
         },
         "type": "table"
        },
        {
         "cells": {
          "align": "center",
          "fill": {
           "color": "rgb(30,30,30)"
          },
          "font": {
           "color": "white",
           "size": 12
          },
          "values": [
           [
            "4-Week",
            "6-Week",
            "8-Week",
            "13-Week",
            "17-Week",
            "26-Week",
            "1-Year",
            "2-Year",
            "5-Year",
            "7-Year",
            "20-Year",
            "29-Year"
           ],
           [
            100,
            85,
            85,
            82,
            65,
            73,
            28,
            69,
            70,
            44,
            16,
            8
           ]
          ]
         },
         "domain": {
          "x": [
           0,
           1
          ],
          "y": [
           0,
           0.425
          ]
         },
         "header": {
          "align": "center",
          "fill": {
           "color": "black"
          },
          "font": {
           "color": "white",
           "size": 14
          },
          "values": [
           "Term",
           "Total Issuance (Billion $)"
          ]
         },
         "type": "table"
        }
       ],
       "layout": {
        "annotations": [
         {
          "font": {
           "size": 16
          },
          "showarrow": false,
          "text": "Upcoming Treasury Issuances (Next 120 Days, Billion USD)",
          "x": 0.5,
          "xanchor": "center",
          "xref": "paper",
          "y": 1,
          "yanchor": "bottom",
          "yref": "paper"
         },
         {
          "font": {
           "size": 16
          },
          "showarrow": false,
          "text": "Total Issuance by Term (Next 120 Days, Billion USD)",
          "x": 0.5,
          "xanchor": "center",
          "xref": "paper",
          "y": 0.425,
          "yanchor": "bottom",
          "yref": "paper"
         }
        ],
        "height": 900,
        "template": {
         "data": {
          "bar": [
           {
            "error_x": {
             "color": "#f2f5fa"
            },
            "error_y": {
             "color": "#f2f5fa"
            },
            "marker": {
             "line": {
              "color": "rgb(17,17,17)",
              "width": 0.5
             },
             "pattern": {
              "fillmode": "overlay",
              "size": 10,
              "solidity": 0.2
             }
            },
            "type": "bar"
           }
          ],
          "barpolar": [
           {
            "marker": {
             "line": {
              "color": "rgb(17,17,17)",
              "width": 0.5
             },
             "pattern": {
              "fillmode": "overlay",
              "size": 10,
              "solidity": 0.2
             }
            },
            "type": "barpolar"
           }
          ],
          "carpet": [
           {
            "aaxis": {
             "endlinecolor": "#A2B1C6",
             "gridcolor": "#506784",
             "linecolor": "#506784",
             "minorgridcolor": "#506784",
             "startlinecolor": "#A2B1C6"
            },
            "baxis": {
             "endlinecolor": "#A2B1C6",
             "gridcolor": "#506784",
             "linecolor": "#506784",
             "minorgridcolor": "#506784",
             "startlinecolor": "#A2B1C6"
            },
            "type": "carpet"
           }
          ],
          "choropleth": [
           {
            "colorbar": {
             "outlinewidth": 0,
             "ticks": ""
            },
            "type": "choropleth"
           }
          ],
          "contour": [
           {
            "colorbar": {
             "outlinewidth": 0,
             "ticks": ""
            },
            "colorscale": [
             [
              0,
              "#0d0887"
             ],
             [
              0.1111111111111111,
              "#46039f"
             ],
             [
              0.2222222222222222,
              "#7201a8"
             ],
             [
              0.3333333333333333,
              "#9c179e"
             ],
             [
              0.4444444444444444,
              "#bd3786"
             ],
             [
              0.5555555555555556,
              "#d8576b"
             ],
             [
              0.6666666666666666,
              "#ed7953"
             ],
             [
              0.7777777777777778,
              "#fb9f3a"
             ],
             [
              0.8888888888888888,
              "#fdca26"
             ],
             [
              1,
              "#f0f921"
             ]
            ],
            "type": "contour"
           }
          ],
          "contourcarpet": [
           {
            "colorbar": {
             "outlinewidth": 0,
             "ticks": ""
            },
            "type": "contourcarpet"
           }
          ],
          "heatmap": [
           {
            "colorbar": {
             "outlinewidth": 0,
             "ticks": ""
            },
            "colorscale": [
             [
              0,
              "#0d0887"
             ],
             [
              0.1111111111111111,
              "#46039f"
             ],
             [
              0.2222222222222222,
              "#7201a8"
             ],
             [
              0.3333333333333333,
              "#9c179e"
             ],
             [
              0.4444444444444444,
              "#bd3786"
             ],
             [
              0.5555555555555556,
              "#d8576b"
             ],
             [
              0.6666666666666666,
              "#ed7953"
             ],
             [
              0.7777777777777778,
              "#fb9f3a"
             ],
             [
              0.8888888888888888,
              "#fdca26"
             ],
             [
              1,
              "#f0f921"
             ]
            ],
            "type": "heatmap"
           }
          ],
          "histogram": [
           {
            "marker": {
             "pattern": {
              "fillmode": "overlay",
              "size": 10,
              "solidity": 0.2
             }
            },
            "type": "histogram"
           }
          ],
          "histogram2d": [
           {
            "colorbar": {
             "outlinewidth": 0,
             "ticks": ""
            },
            "colorscale": [
             [
              0,
              "#0d0887"
             ],
             [
              0.1111111111111111,
              "#46039f"
             ],
             [
              0.2222222222222222,
              "#7201a8"
             ],
             [
              0.3333333333333333,
              "#9c179e"
             ],
             [
              0.4444444444444444,
              "#bd3786"
             ],
             [
              0.5555555555555556,
              "#d8576b"
             ],
             [
              0.6666666666666666,
              "#ed7953"
             ],
             [
              0.7777777777777778,
              "#fb9f3a"
             ],
             [
              0.8888888888888888,
              "#fdca26"
             ],
             [
              1,
              "#f0f921"
             ]
            ],
            "type": "histogram2d"
           }
          ],
          "histogram2dcontour": [
           {
            "colorbar": {
             "outlinewidth": 0,
             "ticks": ""
            },
            "colorscale": [
             [
              0,
              "#0d0887"
             ],
             [
              0.1111111111111111,
              "#46039f"
             ],
             [
              0.2222222222222222,
              "#7201a8"
             ],
             [
              0.3333333333333333,
              "#9c179e"
             ],
             [
              0.4444444444444444,
              "#bd3786"
             ],
             [
              0.5555555555555556,
              "#d8576b"
             ],
             [
              0.6666666666666666,
              "#ed7953"
             ],
             [
              0.7777777777777778,
              "#fb9f3a"
             ],
             [
              0.8888888888888888,
              "#fdca26"
             ],
             [
              1,
              "#f0f921"
             ]
            ],
            "type": "histogram2dcontour"
           }
          ],
          "mesh3d": [
           {
            "colorbar": {
             "outlinewidth": 0,
             "ticks": ""
            },
            "type": "mesh3d"
           }
          ],
          "parcoords": [
           {
            "line": {
             "colorbar": {
              "outlinewidth": 0,
              "ticks": ""
             }
            },
            "type": "parcoords"
           }
          ],
          "pie": [
           {
            "automargin": true,
            "type": "pie"
           }
          ],
          "scatter": [
           {
            "marker": {
             "line": {
              "color": "#283442"
             }
            },
            "type": "scatter"
           }
          ],
          "scatter3d": [
           {
            "line": {
             "colorbar": {
              "outlinewidth": 0,
              "ticks": ""
             }
            },
            "marker": {
             "colorbar": {
              "outlinewidth": 0,
              "ticks": ""
             }
            },
            "type": "scatter3d"
           }
          ],
          "scattercarpet": [
           {
            "marker": {
             "colorbar": {
              "outlinewidth": 0,
              "ticks": ""
             }
            },
            "type": "scattercarpet"
           }
          ],
          "scattergeo": [
           {
            "marker": {
             "colorbar": {
              "outlinewidth": 0,
              "ticks": ""
             }
            },
            "type": "scattergeo"
           }
          ],
          "scattergl": [
           {
            "marker": {
             "line": {
              "color": "#283442"
             }
            },
            "type": "scattergl"
           }
          ],
          "scattermap": [
           {
            "marker": {
             "colorbar": {
              "outlinewidth": 0,
              "ticks": ""
             }
            },
            "type": "scattermap"
           }
          ],
          "scattermapbox": [
           {
            "marker": {
             "colorbar": {
              "outlinewidth": 0,
              "ticks": ""
             }
            },
            "type": "scattermapbox"
           }
          ],
          "scatterpolar": [
           {
            "marker": {
             "colorbar": {
              "outlinewidth": 0,
              "ticks": ""
             }
            },
            "type": "scatterpolar"
           }
          ],
          "scatterpolargl": [
           {
            "marker": {
             "colorbar": {
              "outlinewidth": 0,
              "ticks": ""
             }
            },
            "type": "scatterpolargl"
           }
          ],
          "scatterternary": [
           {
            "marker": {
             "colorbar": {
              "outlinewidth": 0,
              "ticks": ""
             }
            },
            "type": "scatterternary"
           }
          ],
          "surface": [
           {
            "colorbar": {
             "outlinewidth": 0,
             "ticks": ""
            },
            "colorscale": [
             [
              0,
              "#0d0887"
             ],
             [
              0.1111111111111111,
              "#46039f"
             ],
             [
              0.2222222222222222,
              "#7201a8"
             ],
             [
              0.3333333333333333,
              "#9c179e"
             ],
             [
              0.4444444444444444,
              "#bd3786"
             ],
             [
              0.5555555555555556,
              "#d8576b"
             ],
             [
              0.6666666666666666,
              "#ed7953"
             ],
             [
              0.7777777777777778,
              "#fb9f3a"
             ],
             [
              0.8888888888888888,
              "#fdca26"
             ],
             [
              1,
              "#f0f921"
             ]
            ],
            "type": "surface"
           }
          ],
          "table": [
           {
            "cells": {
             "fill": {
              "color": "#506784"
             },
             "line": {
              "color": "rgb(17,17,17)"
             }
            },
            "header": {
             "fill": {
              "color": "#2a3f5f"
             },
             "line": {
              "color": "rgb(17,17,17)"
             }
            },
            "type": "table"
           }
          ]
         },
         "layout": {
          "annotationdefaults": {
           "arrowcolor": "#f2f5fa",
           "arrowhead": 0,
           "arrowwidth": 1
          },
          "autotypenumbers": "strict",
          "coloraxis": {
           "colorbar": {
            "outlinewidth": 0,
            "ticks": ""
           }
          },
          "colorscale": {
           "diverging": [
            [
             0,
             "#8e0152"
            ],
            [
             0.1,
             "#c51b7d"
            ],
            [
             0.2,
             "#de77ae"
            ],
            [
             0.3,
             "#f1b6da"
            ],
            [
             0.4,
             "#fde0ef"
            ],
            [
             0.5,
             "#f7f7f7"
            ],
            [
             0.6,
             "#e6f5d0"
            ],
            [
             0.7,
             "#b8e186"
            ],
            [
             0.8,
             "#7fbc41"
            ],
            [
             0.9,
             "#4d9221"
            ],
            [
             1,
             "#276419"
            ]
           ],
           "sequential": [
            [
             0,
             "#0d0887"
            ],
            [
             0.1111111111111111,
             "#46039f"
            ],
            [
             0.2222222222222222,
             "#7201a8"
            ],
            [
             0.3333333333333333,
             "#9c179e"
            ],
            [
             0.4444444444444444,
             "#bd3786"
            ],
            [
             0.5555555555555556,
             "#d8576b"
            ],
            [
             0.6666666666666666,
             "#ed7953"
            ],
            [
             0.7777777777777778,
             "#fb9f3a"
            ],
            [
             0.8888888888888888,
             "#fdca26"
            ],
            [
             1,
             "#f0f921"
            ]
           ],
           "sequentialminus": [
            [
             0,
             "#0d0887"
            ],
            [
             0.1111111111111111,
             "#46039f"
            ],
            [
             0.2222222222222222,
             "#7201a8"
            ],
            [
             0.3333333333333333,
             "#9c179e"
            ],
            [
             0.4444444444444444,
             "#bd3786"
            ],
            [
             0.5555555555555556,
             "#d8576b"
            ],
            [
             0.6666666666666666,
             "#ed7953"
            ],
            [
             0.7777777777777778,
             "#fb9f3a"
            ],
            [
             0.8888888888888888,
             "#fdca26"
            ],
            [
             1,
             "#f0f921"
            ]
           ]
          },
          "colorway": [
           "#636efa",
           "#EF553B",
           "#00cc96",
           "#ab63fa",
           "#FFA15A",
           "#19d3f3",
           "#FF6692",
           "#B6E880",
           "#FF97FF",
           "#FECB52"
          ],
          "font": {
           "color": "#f2f5fa"
          },
          "geo": {
           "bgcolor": "rgb(17,17,17)",
           "lakecolor": "rgb(17,17,17)",
           "landcolor": "rgb(17,17,17)",
           "showlakes": true,
           "showland": true,
           "subunitcolor": "#506784"
          },
          "hoverlabel": {
           "align": "left"
          },
          "hovermode": "closest",
          "mapbox": {
           "style": "dark"
          },
          "paper_bgcolor": "rgb(17,17,17)",
          "plot_bgcolor": "rgb(17,17,17)",
          "polar": {
           "angularaxis": {
            "gridcolor": "#506784",
            "linecolor": "#506784",
            "ticks": ""
           },
           "bgcolor": "rgb(17,17,17)",
           "radialaxis": {
            "gridcolor": "#506784",
            "linecolor": "#506784",
            "ticks": ""
           }
          },
          "scene": {
           "xaxis": {
            "backgroundcolor": "rgb(17,17,17)",
            "gridcolor": "#506784",
            "gridwidth": 2,
            "linecolor": "#506784",
            "showbackground": true,
            "ticks": "",
            "zerolinecolor": "#C8D4E3"
           },
           "yaxis": {
            "backgroundcolor": "rgb(17,17,17)",
            "gridcolor": "#506784",
            "gridwidth": 2,
            "linecolor": "#506784",
            "showbackground": true,
            "ticks": "",
            "zerolinecolor": "#C8D4E3"
           },
           "zaxis": {
            "backgroundcolor": "rgb(17,17,17)",
            "gridcolor": "#506784",
            "gridwidth": 2,
            "linecolor": "#506784",
            "showbackground": true,
            "ticks": "",
            "zerolinecolor": "#C8D4E3"
           }
          },
          "shapedefaults": {
           "line": {
            "color": "#f2f5fa"
           }
          },
          "sliderdefaults": {
           "bgcolor": "#C8D4E3",
           "bordercolor": "rgb(17,17,17)",
           "borderwidth": 1,
           "tickwidth": 0
          },
          "ternary": {
           "aaxis": {
            "gridcolor": "#506784",
            "linecolor": "#506784",
            "ticks": ""
           },
           "baxis": {
            "gridcolor": "#506784",
            "linecolor": "#506784",
            "ticks": ""
           },
           "bgcolor": "rgb(17,17,17)",
           "caxis": {
            "gridcolor": "#506784",
            "linecolor": "#506784",
            "ticks": ""
           }
          },
          "title": {
           "x": 0.05
          },
          "updatemenudefaults": {
           "bgcolor": "#506784",
           "borderwidth": 0
          },
          "xaxis": {
           "automargin": true,
           "gridcolor": "#283442",
           "linecolor": "#506784",
           "ticks": "",
           "title": {
            "standoff": 15
           },
           "zerolinecolor": "#283442",
           "zerolinewidth": 2
          },
          "yaxis": {
           "automargin": true,
           "gridcolor": "#283442",
           "linecolor": "#506784",
           "ticks": "",
           "title": {
            "standoff": 15
           },
           "zerolinecolor": "#283442",
           "zerolinewidth": 2
          }
         }
        }
       }
      }
     },
     "metadata": {},
     "output_type": "display_data"
    }
   ],
   "source": [
    "import pandas as pd\n",
    "import os\n",
    "import time\n",
    "import requests\n",
    "from datetime import datetime, timedelta\n",
    "import plotly.graph_objects as go\n",
    "from plotly.subplots import make_subplots\n",
    "import re\n",
    "\n",
    "def download_records_after(url, date, page_size=10000):\n",
    "    data = []\n",
    "    page = 1   \n",
    "    url_params = f'?filter=record_date:gt:{date}&page[size]={page_size}'\n",
    "    response = requests.get(url + url_params)\n",
    "    if response.status_code == 200:\n",
    "        result_json = response.json()\n",
    "        data.extend(result_json['data'])\n",
    "\n",
    "        while True:\n",
    "            if result_json['links']['next'] is None:\n",
    "                break\n",
    "            else:\n",
    "                response = requests.get(url + result_json['links']['next'])\n",
    "                if response.status_code == 200:\n",
    "                    result_json = response.json()\n",
    "                    data.extend(result_json['data'])\n",
    "                    page += 1\n",
    "                    print(f'page {page} of {result_json[\"meta\"][\"total-pages\"]}')\n",
    "                    time.sleep(1)\n",
    "                else:\n",
    "                    print(f'status_code: {response.status_code}')\n",
    "                    break\n",
    "    else:\n",
    "        print(f'status_code: {response.status_code}')\n",
    "\n",
    "    return pd.DataFrame(data)\n",
    "\n",
    "def update_records(url, start_date='1900-01-01', page_size=10000, path=None, lookback=2):\n",
    "    if path is None:\n",
    "        ls = url.split('/')[3:]\n",
    "        path = '-'.join(ls).replace('_', '-') + '.pkl'\n",
    "    if os.path.isfile(path):\n",
    "        print(f'Found {path}. Importing.')\n",
    "        df = pd.read_pickle(path)\n",
    "        recent_record_date = df['record_date'].unique()[-lookback]\n",
    "        print(f'recent_record_date: {recent_record_date} lookback: {lookback}')\n",
    "        new_records = download_records_after(url, recent_record_date, page_size)\n",
    "        df = df[df['record_date'] <= recent_record_date]\n",
    "        df = pd.concat([df, new_records], ignore_index=True)\n",
    "        df.to_pickle(path)\n",
    "        return df\n",
    "    else:\n",
    "        recent_record_date = start_date\n",
    "        print(f'Using recent_record_date: {recent_record_date}')\n",
    "        df = download_records_after(url, recent_record_date, page_size)\n",
    "        df.to_pickle(path)\n",
    "        return df\n",
    "\n",
    "def upcoming_issuances_table(days_ahead=120):\n",
    "    api_url = 'https://api.fiscaldata.treasury.gov/services/api/fiscal_service/v1/accounting/od/auctions_query'\n",
    "    \n",
    "    df = update_records(api_url, start_date='1900-01-01', page_size=10000, path=None, lookback=2)\n",
    "\n",
    "    df['issue_date'] = pd.to_datetime(df['issue_date'])\n",
    "    df['offering_amt'] = pd.to_numeric(df['offering_amt'], errors='coerce')\n",
    "\n",
    "    # Filter future issuances\n",
    "    today = pd.Timestamp.today().normalize()\n",
    "    cutoff = today + pd.Timedelta(days=days_ahead)\n",
    "    upcoming = df[(df['issue_date'] >= today) & (df['issue_date'] <= cutoff)].copy()\n",
    "\n",
    "    if upcoming.empty:\n",
    "        print(f\"No upcoming issuances in the next {days_ahead} days.\")\n",
    "        return\n",
    "\n",
    "    # Convert to billions\n",
    "    upcoming['offering_amt_bil'] = upcoming['offering_amt'] / 1e9\n",
    "\n",
    "    upcoming = upcoming[['issue_date', 'security_type', 'security_term_week_year', 'cusip', 'offering_amt_bil']]\n",
    "    upcoming = upcoming.sort_values('issue_date')\n",
    "\n",
    "    summary = upcoming.groupby('security_term_week_year')['offering_amt_bil'].sum().reset_index()\n",
    "    summary = summary.rename(columns={'offering_amt_bil': 'Total Issuance (Billion $)'})\n",
    "\n",
    "    # Sort by numeric tenor\n",
    "    def parse_tenor(term):\n",
    "        num = re.findall(r'\\d+\\.?\\d*', term)\n",
    "        unit = 'Y'\n",
    "        if 'Week' in term:\n",
    "            unit = 'W'\n",
    "        elif 'Month' in term:\n",
    "            unit = 'M'\n",
    "        elif 'Year' in term:\n",
    "            unit = 'Y'\n",
    "        return float(num[0]) if num else 0, unit\n",
    "\n",
    "    summary['sort_key'] = summary['security_term_week_year'].apply(lambda x: parse_tenor(x)[0])\n",
    "    summary['unit'] = summary['security_term_week_year'].apply(lambda x: parse_tenor(x)[1])\n",
    "    # Convert everything to weeks for sorting\n",
    "    summary['sort_weeks'] = summary.apply(lambda row: row['sort_key'] * (1 if row['unit']=='W' else 4 if row['unit']=='M' else 52), axis=1)\n",
    "    summary = summary.sort_values('sort_weeks')\n",
    "\n",
    "    # --- Create Subplots ---\n",
    "    fig = make_subplots(\n",
    "        rows=2, cols=1,\n",
    "        subplot_titles=(f\"Upcoming Treasury Issuances (Next {days_ahead} Days, Billion USD)\",\n",
    "                        f\"Total Issuance by Term (Next {days_ahead} Days, Billion USD)\"),\n",
    "        vertical_spacing=0.15,\n",
    "        specs=[[{\"type\": \"table\"}], [{\"type\": \"table\"}]]\n",
    "    )\n",
    "\n",
    "    fig.add_trace(go.Table(\n",
    "        header=dict(\n",
    "            values=[\"Issue Date\", \"Security Type\", \"Term\", \"CUSIP\", \"Offering (Billion $)\"],\n",
    "            fill_color='black', font=dict(color='white', size=14), align='center'\n",
    "        ),\n",
    "        cells=dict(\n",
    "            values=[\n",
    "                upcoming['issue_date'].dt.strftime('%Y-%m-%d'),\n",
    "                upcoming['security_type'],\n",
    "                upcoming['security_term_week_year'],\n",
    "                upcoming['cusip'],\n",
    "                upcoming['offering_amt_bil'].round(2)\n",
    "            ],\n",
    "            fill_color='rgb(30,30,30)',\n",
    "            font=dict(color='white', size=12),\n",
    "            align='center'\n",
    "        )\n",
    "    ), row=1, col=1)\n",
    "\n",
    "    # Summary table\n",
    "    fig.add_trace(go.Table(\n",
    "        header=dict(\n",
    "            values=[\"Term\", \"Total Issuance (Billion $)\"],\n",
    "            fill_color='black', font=dict(color='white', size=14), align='center'\n",
    "        ),\n",
    "        cells=dict(\n",
    "            values=[\n",
    "                summary['security_term_week_year'],\n",
    "                summary['Total Issuance (Billion $)'].round(2)\n",
    "            ],\n",
    "            fill_color='rgb(30,30,30)',\n",
    "            font=dict(color='white', size=12),\n",
    "            align='center'\n",
    "        )\n",
    "    ), row=2, col=1)\n",
    "\n",
    "    fig.update_layout(template='plotly_dark',\n",
    "                      height=900)\n",
    "    fig.show()\n",
    "\n",
    "    return upcoming, summary\n",
    "\n",
    "upcoming, summary = upcoming_issuances_table(days_ahead=120)"
   ]
  }
 ],
 "metadata": {
  "kernelspec": {
   "display_name": ".venv",
   "language": "python",
   "name": "python3"
  },
  "language_info": {
   "codemirror_mode": {
    "name": "ipython",
    "version": 3
   },
   "file_extension": ".py",
   "mimetype": "text/x-python",
   "name": "python",
   "nbconvert_exporter": "python",
   "pygments_lexer": "ipython3",
   "version": "3.12.8"
  }
 },
 "nbformat": 4,
 "nbformat_minor": 2
}
